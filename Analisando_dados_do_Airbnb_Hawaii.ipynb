{
  "nbformat": 4,
  "nbformat_minor": 0,
  "metadata": {
    "colab": {
      "name": "Analisando dados do Airbnb_Hawaii.ipynb",
      "provenance": [],
      "collapsed_sections": [],
      "toc_visible": true,
      "authorship_tag": "ABX9TyNMt04nog1mzbVjRMTp++uf",
      "include_colab_link": true
    },
    "kernelspec": {
      "name": "python3",
      "display_name": "Python 3"
    }
  },
  "cells": [
    {
      "cell_type": "markdown",
      "metadata": {
        "id": "view-in-github",
        "colab_type": "text"
      },
      "source": [
        "<a href=\"https://colab.research.google.com/github/holyarmsBR/DS-Projects/blob/master/Analisando_dados_do_Airbnb_Hawaii.ipynb\" target=\"_parent\"><img src=\"https://colab.research.google.com/assets/colab-badge.svg\" alt=\"Open In Colab\"/></a>"
      ]
    },
    {
      "cell_type": "markdown",
      "metadata": {
        "id": "K7j29Fp45CBr",
        "colab_type": "text"
      },
      "source": [
        "#Analisando dados de hospedagem no Hawaii\n",
        "\n",
        "**Ah! o Hawaii!!!!** Lugar apaixonante que tive o prazer de conhecer no final de 2018, época em que o Medina conquistou o Pipe Master e o Jessé, a tríplice coroa.\n",
        "\n",
        "Como surfista (amador) e amante do esporte, resolvi, como primeiro trabalho no campo de Data Science, entender um pouco como funciona o mercado de hospedagem desse lugar tão lindo.\n",
        "\n",
        "O Hawaii (hoje um estado dos EUA) é um arquipélago no meio do oceano pacífico composto por 132 ilhas (isso mesmo!!). Contudo são 8 as ilhas principais:\n",
        "* Oahu\n",
        "* Big Island\n",
        "* Maui\n",
        "* Kauai\n",
        "* Molokay\n",
        "* Lanai\n",
        "* Niihau\n",
        "* Kahoolawe\n",
        "\n",
        "\n",
        "Para o presente estudo (utilizado para o aprendizado de data science e para minha curiosidade...rsrs) utilizei os dados do [Airbnb](https://www.airbnb.com.br/). Pelo aplicativo é possivel que qualquer um ofereça sua casa a quem deseje um local para passar a noite, um final de semana, um mês... e por aí vai.\n",
        "\n",
        "Uma das iniciativas do Airbnb é disponibilizar dados do site, para algumas das principais cidades do mundo. Por meio do portal [Inside Airbnb](http://insideairbnb.com/get-the-data.html), é possível baixar uma grande quantidade de dados para desenvolver projetos e soluções de *Data Science*.\n",
        "\n",
        "<center><img alt=\"Analisando Airbnb\" width=\"10%\" src=\"https://www.area360.com.au/wp-content/uploads/2017/09/airbnb-logo.jpg\"></center>\n",
        "\n",
        "**Neste *notebook*, iremos analisar os dados referentes ao Hawaii e ver quais insights podem ser extraídos a partir de dados brutos.**"
      ]
    },
    {
      "cell_type": "markdown",
      "metadata": {
        "id": "8snNivGz7QOg",
        "colab_type": "text"
      },
      "source": [
        "##1- Obtenção dos dados##\n",
        "\n",
        "Os dados que serão utilizados foram obtidos através do [Inside Airbnb](http://insideairbnb.com/get-the-data.html).\n",
        "\n",
        "Para esta análise incial, utilizarei o seguinte arquivo:\n",
        "* listings.csv - Dados simplificados referentes ao Hawaii."
      ]
    },
    {
      "cell_type": "code",
      "metadata": {
        "id": "nZ8He3W-86Nk",
        "colab_type": "code",
        "outputId": "fe04c039-511a-4919-fb60-9be4a92b567d",
        "colab": {
          "base_uri": "https://localhost:8080/",
          "height": 71
        }
      },
      "source": [
        "#Importando os pacotes necessários\n",
        "\n",
        "import pandas as pd\n",
        "import matplotlib.pyplot as plt\n",
        "import seaborn as sns\n",
        "\n",
        "%matplotlib inline"
      ],
      "execution_count": 0,
      "outputs": [
        {
          "output_type": "stream",
          "text": [
            "/usr/local/lib/python3.6/dist-packages/statsmodels/tools/_testing.py:19: FutureWarning: pandas.util.testing is deprecated. Use the functions in the public API at pandas.testing instead.\n",
            "  import pandas.util.testing as tm\n"
          ],
          "name": "stderr"
        }
      ]
    },
    {
      "cell_type": "code",
      "metadata": {
        "id": "dXCoBs9S9LWy",
        "colab_type": "code",
        "colab": {}
      },
      "source": [
        "#importando o arquivo csv\n",
        "\n",
        "df = pd.read_csv(\"http://data.insideairbnb.com/united-states/hi/hawaii/2020-05-11/visualisations/listings.csv\")"
      ],
      "execution_count": 0,
      "outputs": []
    },
    {
      "cell_type": "markdown",
      "metadata": {
        "id": "i6N2n156-LRG",
        "colab_type": "text"
      },
      "source": [
        "##2- Análise dos dados##\n",
        "\n",
        "Primeiramente, vamos entender como os dados estão distribuídos:"
      ]
    },
    {
      "cell_type": "code",
      "metadata": {
        "id": "624cQSqH-X9g",
        "colab_type": "code",
        "outputId": "9271d058-6af2-4b18-d04e-e894f59bbd87",
        "colab": {
          "base_uri": "https://localhost:8080/",
          "height": 428
        }
      },
      "source": [
        "df.head()"
      ],
      "execution_count": 0,
      "outputs": [
        {
          "output_type": "execute_result",
          "data": {
            "text/html": [
              "<div>\n",
              "<style scoped>\n",
              "    .dataframe tbody tr th:only-of-type {\n",
              "        vertical-align: middle;\n",
              "    }\n",
              "\n",
              "    .dataframe tbody tr th {\n",
              "        vertical-align: top;\n",
              "    }\n",
              "\n",
              "    .dataframe thead th {\n",
              "        text-align: right;\n",
              "    }\n",
              "</style>\n",
              "<table border=\"1\" class=\"dataframe\">\n",
              "  <thead>\n",
              "    <tr style=\"text-align: right;\">\n",
              "      <th></th>\n",
              "      <th>id</th>\n",
              "      <th>name</th>\n",
              "      <th>host_id</th>\n",
              "      <th>host_name</th>\n",
              "      <th>neighbourhood_group</th>\n",
              "      <th>neighbourhood</th>\n",
              "      <th>latitude</th>\n",
              "      <th>longitude</th>\n",
              "      <th>room_type</th>\n",
              "      <th>price</th>\n",
              "      <th>minimum_nights</th>\n",
              "      <th>number_of_reviews</th>\n",
              "      <th>last_review</th>\n",
              "      <th>reviews_per_month</th>\n",
              "      <th>calculated_host_listings_count</th>\n",
              "      <th>availability_365</th>\n",
              "    </tr>\n",
              "  </thead>\n",
              "  <tbody>\n",
              "    <tr>\n",
              "      <th>0</th>\n",
              "      <td>5065</td>\n",
              "      <td>MAUKA BB</td>\n",
              "      <td>7257</td>\n",
              "      <td>Wayne</td>\n",
              "      <td>Hawaii</td>\n",
              "      <td>Hamakua</td>\n",
              "      <td>20.04095</td>\n",
              "      <td>-155.43251</td>\n",
              "      <td>Entire home/apt</td>\n",
              "      <td>85</td>\n",
              "      <td>2</td>\n",
              "      <td>42</td>\n",
              "      <td>2020-03-22</td>\n",
              "      <td>0.48</td>\n",
              "      <td>2</td>\n",
              "      <td>365</td>\n",
              "    </tr>\n",
              "    <tr>\n",
              "      <th>1</th>\n",
              "      <td>5269</td>\n",
              "      <td>Upcountry Hospitality in the 'Auwai Suite</td>\n",
              "      <td>7620</td>\n",
              "      <td>Lea &amp; Pat</td>\n",
              "      <td>Hawaii</td>\n",
              "      <td>South Kohala</td>\n",
              "      <td>20.02740</td>\n",
              "      <td>-155.70200</td>\n",
              "      <td>Entire home/apt</td>\n",
              "      <td>110</td>\n",
              "      <td>30</td>\n",
              "      <td>10</td>\n",
              "      <td>2020-03-01</td>\n",
              "      <td>0.09</td>\n",
              "      <td>6</td>\n",
              "      <td>341</td>\n",
              "    </tr>\n",
              "    <tr>\n",
              "      <th>2</th>\n",
              "      <td>5387</td>\n",
              "      <td>Hale Koa Studio &amp; 1 Bedroom Units!!</td>\n",
              "      <td>7878</td>\n",
              "      <td>Edward</td>\n",
              "      <td>Hawaii</td>\n",
              "      <td>South Kona</td>\n",
              "      <td>19.43119</td>\n",
              "      <td>-155.88079</td>\n",
              "      <td>Entire home/apt</td>\n",
              "      <td>92</td>\n",
              "      <td>5</td>\n",
              "      <td>168</td>\n",
              "      <td>2020-03-18</td>\n",
              "      <td>1.35</td>\n",
              "      <td>3</td>\n",
              "      <td>358</td>\n",
              "    </tr>\n",
              "    <tr>\n",
              "      <th>3</th>\n",
              "      <td>5389</td>\n",
              "      <td>Keauhou Villa</td>\n",
              "      <td>7878</td>\n",
              "      <td>Edward</td>\n",
              "      <td>Hawaii</td>\n",
              "      <td>North Kona</td>\n",
              "      <td>19.56413</td>\n",
              "      <td>-155.96347</td>\n",
              "      <td>Entire home/apt</td>\n",
              "      <td>299</td>\n",
              "      <td>6</td>\n",
              "      <td>20</td>\n",
              "      <td>2020-03-22</td>\n",
              "      <td>0.25</td>\n",
              "      <td>3</td>\n",
              "      <td>243</td>\n",
              "    </tr>\n",
              "    <tr>\n",
              "      <th>4</th>\n",
              "      <td>5390</td>\n",
              "      <td>STAY AT PRINCE KUHIO!</td>\n",
              "      <td>7887</td>\n",
              "      <td>Todd</td>\n",
              "      <td>Kauai</td>\n",
              "      <td>Koloa-Poipu</td>\n",
              "      <td>21.88305</td>\n",
              "      <td>-159.47372</td>\n",
              "      <td>Entire home/apt</td>\n",
              "      <td>92</td>\n",
              "      <td>3</td>\n",
              "      <td>138</td>\n",
              "      <td>2020-03-16</td>\n",
              "      <td>1.03</td>\n",
              "      <td>1</td>\n",
              "      <td>148</td>\n",
              "    </tr>\n",
              "  </tbody>\n",
              "</table>\n",
              "</div>"
            ],
            "text/plain": [
              "     id  ... availability_365\n",
              "0  5065  ...              365\n",
              "1  5269  ...              341\n",
              "2  5387  ...              358\n",
              "3  5389  ...              243\n",
              "4  5390  ...              148\n",
              "\n",
              "[5 rows x 16 columns]"
            ]
          },
          "metadata": {
            "tags": []
          },
          "execution_count": 4
        }
      ]
    },
    {
      "cell_type": "markdown",
      "metadata": {
        "id": "sGYny9yR-fUB",
        "colab_type": "text"
      },
      "source": [
        "###2.1- Compreendendo as variáveis###\n",
        "\n",
        "O primeiro passo é entender que tipo de informação cada variável quer nos passar. Para isso foi desenvolvida a lista abaixo:\n",
        "\n",
        "**Dícionário das variáveis**\n",
        "\n",
        "* id - número de id gerado para identificar o imóvel\n",
        "* name - nome da propriedade anunciada\n",
        "* host_id - número de id do proprietário (anfitrião) da propriedade\n",
        "* host_name - Nome do anfitrião\n",
        "* neighbourhood_group - esta coluna não contém nenhum valor válido\n",
        "* neighbourhood - nome do bairro\n",
        "* latitude - coordenada da latitude da propriedade\n",
        "* longitude - coordenada da longitude da propriedade\n",
        "* room_type - informa o tipo de quarto que é oferecido\n",
        "* price - preço para alugar o imóvel\n",
        "* minimum_nights - quantidade mínima de noites para reservar\n",
        "* number_of_reviews - número de reviews que a propriedade possui\n",
        "* last_review - data do último review\n",
        "* reviews_per_month - quantidade de reviews por mês\n",
        "* calculated_host_listings_count - quantidade de imóveis do mesmo anfitrião\n",
        "* availability_365 - número de dias de disponibilidade dentro de 365 dias"
      ]
    },
    {
      "cell_type": "markdown",
      "metadata": {
        "id": "PWuOCJ2D-7NG",
        "colab_type": "text"
      },
      "source": [
        "###2.2- Nos familiarizando com os dados###\n",
        "\n",
        "Neste momento, vamos verificar quantos atributos (variáveis) e quantas entradas o nosso conjunto de dados possui, bem como quais os tipos das variáveis de cada coluna.\n",
        "\n",
        "\n",
        "Vale lembrar que como estou inicindo neste mundo, este dataset que baixei é a versão \"resumida\" do Airbnb. Na mesma página que baixamos o arquivo listings.csv. Há uma versão mais completa (listings.csv.gz).\n",
        "\n",
        "Mais pra frente eu crio coragem e trabalho com a base mais \"robusta\"... rsrs"
      ]
    },
    {
      "cell_type": "code",
      "metadata": {
        "id": "AqyJO0p3_5-P",
        "colab_type": "code",
        "outputId": "0a63f700-7600-4cd9-b8f6-955b9c7299a5",
        "colab": {
          "base_uri": "https://localhost:8080/",
          "height": 357
        }
      },
      "source": [
        "#Identificar o volume de dados do DataFrame\n",
        "\n",
        "print(\"Entradas: \\t {}\".format(df.shape[0]))\n",
        "print(\"Variáveis: \\t {} \\n\" .format(df.shape[1]))\n",
        "\n",
        "#Verificar as 5 primeiras entradas do Dataset\n",
        "\n",
        "display (df.dtypes)"
      ],
      "execution_count": 0,
      "outputs": [
        {
          "output_type": "stream",
          "text": [
            "Entradas: \t 22947\n",
            "Variáveis: \t 16 \n",
            "\n"
          ],
          "name": "stdout"
        },
        {
          "output_type": "display_data",
          "data": {
            "text/plain": [
              "id                                  int64\n",
              "name                               object\n",
              "host_id                             int64\n",
              "host_name                          object\n",
              "neighbourhood_group                object\n",
              "neighbourhood                      object\n",
              "latitude                          float64\n",
              "longitude                         float64\n",
              "room_type                          object\n",
              "price                               int64\n",
              "minimum_nights                      int64\n",
              "number_of_reviews                   int64\n",
              "last_review                        object\n",
              "reviews_per_month                 float64\n",
              "calculated_host_listings_count      int64\n",
              "availability_365                    int64\n",
              "dtype: object"
            ]
          },
          "metadata": {
            "tags": []
          }
        }
      ]
    },
    {
      "cell_type": "markdown",
      "metadata": {
        "id": "rRYjC6lxAiF4",
        "colab_type": "text"
      },
      "source": [
        "Conforme podemos perceber, o DataFrame conta com 16 variáveis (distribuídas por colunas) e 22.947 observações (linhas). Além disso, tem seus tipos encontram-se descritos acima.\n",
        "\n",
        "Com essas informações, podemos \"entender melhor\" nosso conjunto de dados. Dados do tipo **inteiros** (int64) e **float**(float64) nos permitem fazer diversas inferências estatísticas através da análise de médias, percentis, desvios-padrão e por aí vai.\n",
        "\n",
        "O tipo **object** se refere a um objeto do python **string**. Algumas vezes é necessário que esse tipo de dado seja transformado caso queiramos trabalhar com eles.\n",
        "\n",
        "A título de exemplo, observem a variável **last_review**. na verdade, ela demonstra a data da última avaliação. Logo, caso eu quisesse trabalhar com datas, esse conjunto de dados teria que ser transformado."
      ]
    },
    {
      "cell_type": "markdown",
      "metadata": {
        "id": "1HhfIbGICpPL",
        "colab_type": "text"
      },
      "source": [
        "\n",
        "\n",
        "### 2.3- verificando a qualidade dos dados###\n",
        "\n",
        "A credibilidade de sua análise está diretamente ligada a qualidade dos dados trabalhados. Não há como iniciar suas inferências e gerar resultados confiáveis sem vefificar minimamente algumas \"inconsistências\" que podem lhe levar ao erro.\n",
        "\n",
        "Neste primeiro trabalho, vamos analisar os seguintes pontos, que poderiam prejudicar nossa análise:\n",
        "* Valores ausentes; e\n",
        "* Presença de *Outliers*.\n"
      ]
    },
    {
      "cell_type": "markdown",
      "metadata": {
        "id": "vPG37hxhJnNR",
        "colab_type": "text"
      },
      "source": [
        "####2.3.1 - Valores ausentes###\n",
        "\n",
        "Valores ausentes podem prejudicar sobremaneira qualquer análise realizada. Vamos observar como possíveis ausências de informações estão dispostas no nosso DataFrame:\n"
      ]
    },
    {
      "cell_type": "code",
      "metadata": {
        "id": "CYWGeZ0IGNLS",
        "colab_type": "code",
        "outputId": "18df96e8-66fc-4c11-d4da-1816644f8822",
        "colab": {
          "base_uri": "https://localhost:8080/",
          "height": 306
        }
      },
      "source": [
        "#Ordenando as variáveis em ordem decrescente de valores ausentes\n",
        "\n",
        "(df.isnull().sum() / df.shape[0]).sort_values(ascending=False)"
      ],
      "execution_count": 0,
      "outputs": [
        {
          "output_type": "execute_result",
          "data": {
            "text/plain": [
              "reviews_per_month                 0.206824\n",
              "last_review                       0.206824\n",
              "availability_365                  0.000000\n",
              "calculated_host_listings_count    0.000000\n",
              "number_of_reviews                 0.000000\n",
              "minimum_nights                    0.000000\n",
              "price                             0.000000\n",
              "room_type                         0.000000\n",
              "longitude                         0.000000\n",
              "latitude                          0.000000\n",
              "neighbourhood                     0.000000\n",
              "neighbourhood_group               0.000000\n",
              "host_name                         0.000000\n",
              "host_id                           0.000000\n",
              "name                              0.000000\n",
              "id                                0.000000\n",
              "dtype: float64"
            ]
          },
          "metadata": {
            "tags": []
          },
          "execution_count": 6
        }
      ]
    },
    {
      "cell_type": "markdown",
      "metadata": {
        "id": "Vns0tmjAHq_c",
        "colab_type": "text"
      },
      "source": [
        "O código acima traz o percentual, por ordem decrescente, de itens faltantes por variável.\n",
        "\n",
        "Podemos observar que faltam em torno de 20% das variáveis **reviews_per_month** e **last_review**. Trabalhar com elas ou não vai depender do tamanho da amostra que você possui. Como tenho 22.947 observações, ainda me sobraria uma quantidade de dados interessante para trabalhar de forma estatística. Contudo, essa é uma análise ainda superficial, pois não se sabe se os dados faltantes são concentrados, por exemplo. Desta forma, não irei utilizá-las neste notebook.\n",
        "\n",
        "As demais variáveis estão completas."
      ]
    },
    {
      "cell_type": "markdown",
      "metadata": {
        "id": "yRP1l-H8Ja31",
        "colab_type": "text"
      },
      "source": [
        "####2.3.2- Presença de *Outliers*####\n",
        "\n",
        "A presença de *Outliers* (grosso modo, aquelas observações que distoam bastante, quantitativamente, do conjunto de observações) tendem a prejudicar significativamente qualquer inferência estatística realizada, trazendo viés aos resultados obtidos.\n",
        "\n",
        "Desta forma, esses valores devem ser expurgados da base de dados.\n",
        "\n",
        "Contudo, vamos, primeiramente, como nossas variáveis estão distribuídas:"
      ]
    },
    {
      "cell_type": "code",
      "metadata": {
        "id": "O0GDvgjOLrTW",
        "colab_type": "code",
        "outputId": "56b734f3-9521-43e5-df06-797da30dc2b8",
        "colab": {
          "base_uri": "https://localhost:8080/",
          "height": 586
        }
      },
      "source": [
        "#Plotando o histograma das variáveis numéricas\n",
        "\n",
        "df.hist(bins=15, figsize=(15,10));"
      ],
      "execution_count": 0,
      "outputs": [
        {
          "output_type": "display_data",
          "data": {
            "image/png": "[encoded data removed]",
            "text/plain": [
              "<Figure size 1080x720 with 12 Axes>"
            ]
          },
          "metadata": {
            "tags": [],
            "needs_background": "light"
          }
        }
      ]
    },
    {
      "cell_type": "markdown",
      "metadata": {
        "id": "Vvf32iaPM2le",
        "colab_type": "text"
      },
      "source": [
        "À primeira vista, já podemos verificar alguns pontos interessantes. Contudo, de cara percebemos também algumas informações que \"fogem do comum\".\n",
        "\n",
        "Vejam, por exemplo, as variáveis **minimun_nights** e **price**. Será que, para alugar uma das ofertas, você seria obrigado a ficar no mínimo mais de 300 noites e pagar uma diária de 80 mil dólares?\n",
        "\n",
        "Claramente há indícios fortes da presença de *outliers* que precisam ser excluídos para que possamos ter maior confiabilidade em nossas análises.\n",
        "\n",
        "Primeiramente, vamos confirmar tais indícios verificando as informações estatísticas:"
      ]
    },
    {
      "cell_type": "code",
      "metadata": {
        "id": "2KZoWLD0OJfR",
        "colab_type": "code",
        "outputId": "64643a8a-c89d-4a56-ca9f-babe6284492f",
        "colab": {
          "base_uri": "https://localhost:8080/",
          "height": 317
        }
      },
      "source": [
        "#Ver resumo estatístico das variáveis numéricas\n",
        "\n",
        "df[['price', 'minimum_nights', 'number_of_reviews', 'reviews_per_month',\n",
        "    'calculated_host_listings_count', 'availability_365',]].describe()"
      ],
      "execution_count": 0,
      "outputs": [
        {
          "output_type": "execute_result",
          "data": {
            "text/html": [
              "<div>\n",
              "<style scoped>\n",
              "    .dataframe tbody tr th:only-of-type {\n",
              "        vertical-align: middle;\n",
              "    }\n",
              "\n",
              "    .dataframe tbody tr th {\n",
              "        vertical-align: top;\n",
              "    }\n",
              "\n",
              "    .dataframe thead th {\n",
              "        text-align: right;\n",
              "    }\n",
              "</style>\n",
              "<table border=\"1\" class=\"dataframe\">\n",
              "  <thead>\n",
              "    <tr style=\"text-align: right;\">\n",
              "      <th></th>\n",
              "      <th>price</th>\n",
              "      <th>minimum_nights</th>\n",
              "      <th>number_of_reviews</th>\n",
              "      <th>reviews_per_month</th>\n",
              "      <th>calculated_host_listings_count</th>\n",
              "      <th>availability_365</th>\n",
              "    </tr>\n",
              "  </thead>\n",
              "  <tbody>\n",
              "    <tr>\n",
              "      <th>count</th>\n",
              "      <td>22947.000000</td>\n",
              "      <td>22947.000000</td>\n",
              "      <td>22947.000000</td>\n",
              "      <td>18201.000000</td>\n",
              "      <td>22947.000000</td>\n",
              "      <td>22947.000000</td>\n",
              "    </tr>\n",
              "    <tr>\n",
              "      <th>mean</th>\n",
              "      <td>368.614634</td>\n",
              "      <td>5.547218</td>\n",
              "      <td>28.146860</td>\n",
              "      <td>1.223906</td>\n",
              "      <td>43.391075</td>\n",
              "      <td>217.754129</td>\n",
              "    </tr>\n",
              "    <tr>\n",
              "      <th>std</th>\n",
              "      <td>1044.316977</td>\n",
              "      <td>11.245700</td>\n",
              "      <td>49.331837</td>\n",
              "      <td>1.356757</td>\n",
              "      <td>68.248845</td>\n",
              "      <td>112.708917</td>\n",
              "    </tr>\n",
              "    <tr>\n",
              "      <th>min</th>\n",
              "      <td>0.000000</td>\n",
              "      <td>1.000000</td>\n",
              "      <td>0.000000</td>\n",
              "      <td>0.010000</td>\n",
              "      <td>1.000000</td>\n",
              "      <td>0.000000</td>\n",
              "    </tr>\n",
              "    <tr>\n",
              "      <th>25%</th>\n",
              "      <td>130.000000</td>\n",
              "      <td>1.000000</td>\n",
              "      <td>1.000000</td>\n",
              "      <td>0.270000</td>\n",
              "      <td>2.000000</td>\n",
              "      <td>141.000000</td>\n",
              "    </tr>\n",
              "    <tr>\n",
              "      <th>50%</th>\n",
              "      <td>204.000000</td>\n",
              "      <td>3.000000</td>\n",
              "      <td>8.000000</td>\n",
              "      <td>0.720000</td>\n",
              "      <td>7.000000</td>\n",
              "      <td>244.000000</td>\n",
              "    </tr>\n",
              "    <tr>\n",
              "      <th>75%</th>\n",
              "      <td>350.000000</td>\n",
              "      <td>5.000000</td>\n",
              "      <td>34.000000</td>\n",
              "      <td>1.760000</td>\n",
              "      <td>58.000000</td>\n",
              "      <td>312.000000</td>\n",
              "    </tr>\n",
              "    <tr>\n",
              "      <th>max</th>\n",
              "      <td>94016.000000</td>\n",
              "      <td>365.000000</td>\n",
              "      <td>739.000000</td>\n",
              "      <td>21.410000</td>\n",
              "      <td>286.000000</td>\n",
              "      <td>365.000000</td>\n",
              "    </tr>\n",
              "  </tbody>\n",
              "</table>\n",
              "</div>"
            ],
            "text/plain": [
              "              price  ...  availability_365\n",
              "count  22947.000000  ...      22947.000000\n",
              "mean     368.614634  ...        217.754129\n",
              "std     1044.316977  ...        112.708917\n",
              "min        0.000000  ...          0.000000\n",
              "25%      130.000000  ...        141.000000\n",
              "50%      204.000000  ...        244.000000\n",
              "75%      350.000000  ...        312.000000\n",
              "max    94016.000000  ...        365.000000\n",
              "\n",
              "[8 rows x 6 columns]"
            ]
          },
          "metadata": {
            "tags": []
          },
          "execution_count": 8
        }
      ]
    },
    {
      "cell_type": "markdown",
      "metadata": {
        "id": "eg7UVGr9OrlB",
        "colab_type": "text"
      },
      "source": [
        "Diante das informações estatísticas acima expostas, podemos afirmar:\n",
        "* A variável *price* possui 75% do valor abaixo de 350 e seu valor máximo é de 94.016; e\n",
        "* A quantidade mínima de noites é igual ao número de dias do ano.\n",
        "\n",
        "Vamos agora, atraves do Boxplot, analisar essa dispersão:\n",
        "\n",
        "\n",
        "**Boxplot para minimum_night**:"
      ]
    },
    {
      "cell_type": "code",
      "metadata": {
        "id": "V8ZKGK363Ugv",
        "colab_type": "code",
        "outputId": "ccde8154-4225-453d-aa9c-7b00223d9a0c",
        "colab": {
          "base_uri": "https://localhost:8080/",
          "height": 244
        }
      },
      "source": [
        "#minimum_nights boxplot\n",
        "\n",
        "df.minimum_nights.plot(kind='box', vert=False, figsize=(15, 3))\n",
        "plt.show()\n",
        "\n",
        "#Ver quantidade de valores acima de 30 dias para minimum_nights\n",
        "\n",
        "print(\"Valores para minimum_nights acima de 30 dias\")\n",
        "print(\"{} entradas\" .format(len(df[df.minimum_nights > 30])))\n",
        "print(\"{:.4f}%\" .format((len(df[df.minimum_nights > 30]) / df.shape[0])*100))"
      ],
      "execution_count": 0,
      "outputs": [
        {
          "output_type": "display_data",
          "data": {
            "image/png": "[encoded data removed]",
            "text/plain": [
              "<Figure size 1080x216 with 1 Axes>"
            ]
          },
          "metadata": {
            "tags": [],
            "needs_background": "light"
          }
        },
        {
          "output_type": "stream",
          "text": [
            "Valores para minimum_nights acima de 30 dias\n",
            "193 entradas\n",
            "0.8411%\n"
          ],
          "name": "stdout"
        }
      ]
    },
    {
      "cell_type": "code",
      "metadata": {
        "id": "ovHCiokBGm_f",
        "colab_type": "code",
        "outputId": "be687ea7-fbce-46ff-b97a-963fd6ab1d06",
        "colab": {
          "base_uri": "https://localhost:8080/",
          "height": 256
        }
      },
      "source": [
        "#price boxplot\n",
        "\n",
        "df.price.plot(kind='box', vert=False, figsize=(15, 3))\n",
        "plt.show()\n",
        "\n",
        "#Ver quantidade de valores acima de 1500 para price\n",
        "\n",
        "print(\"Valores para price acima de 1500\")\n",
        "print(\"{} entradas\" .format(len(df[df.price > 1500])))\n",
        "print(\"{:.4f}%\" .format((len(df[df.price > 1500]) / df.shape[0])*100))"
      ],
      "execution_count": 0,
      "outputs": [
        {
          "output_type": "display_data",
          "data": {
            "image/png": "[encoded data removed]",
            "text/plain": [
              "<Figure size 1080x216 with 1 Axes>"
            ]
          },
          "metadata": {
            "tags": [],
            "needs_background": "light"
          }
        },
        {
          "output_type": "stream",
          "text": [
            "Valores para price acima de 1500\n",
            "643 entradas\n",
            "2.8021%\n"
          ],
          "name": "stdout"
        }
      ]
    },
    {
      "cell_type": "markdown",
      "metadata": {
        "id": "xvCjUYJ6HK8N",
        "colab_type": "text"
      },
      "source": [
        "Após identificação dos *outliers* nas variáveis **price** e **minimum_nights**, vamos retirá-los do Dataframe e plotar novamente os histogramas:"
      ]
    },
    {
      "cell_type": "code",
      "metadata": {
        "id": "yutz1-FHHkVD",
        "colab_type": "code",
        "outputId": "250d16f8-88a6-4d97-cafd-dff74816ec12",
        "colab": {
          "base_uri": "https://localhost:8080/",
          "height": 585
        }
      },
      "source": [
        "#remover outliers, criando um novo DataFrame\n",
        "\n",
        "df_clean = df.copy()\n",
        "df_clean.drop(df_clean[df_clean.price > 1500].index, axis=0, inplace=True)\n",
        "df_clean.drop(df_clean[df_clean.minimum_nights > 30].index, axis=0, inplace=True)\n",
        "\n",
        "#plotar histogramas do DataFrame sem os outliers\n",
        "\n",
        "df_clean.hist(bins=15, figsize=(15,10));"
      ],
      "execution_count": 0,
      "outputs": [
        {
          "output_type": "display_data",
          "data": {
            "image/png": "[encoded data removed]",
            "text/plain": [
              "<Figure size 1080x720 with 12 Axes>"
            ]
          },
          "metadata": {
            "tags": [],
            "needs_background": "light"
          }
        }
      ]
    },
    {
      "cell_type": "markdown",
      "metadata": {
        "id": "Mp4XCZfwRF_1",
        "colab_type": "text"
      },
      "source": [
        "###2.4- Observando a correlação entre as variáveis###\n",
        "\n",
        "Correlação significa que existe uma relação entre duas coisas. No nosso contexto, estamos buscando relação ou semelhança entre duas variáveis.\n",
        "\n",
        "Essa relação pode ser medida, e é função do coeficiente de correlação estabelecer qual a intensidade dela. Para identificar as correlações existentes entre as variáveis de interesse, vou:\n",
        "\n",
        "*Criar uma matriz de correlação\n",
        "*Gerar um heatmap a partir dessa matriz, usando a biblioteca seaborn"
      ]
    },
    {
      "cell_type": "code",
      "metadata": {
        "id": "E9G706bKRscq",
        "colab_type": "code",
        "outputId": "ab3c3ec8-efdd-40e6-afe8-fb9d617f3304",
        "colab": {
          "base_uri": "https://localhost:8080/",
          "height": 255
        }
      },
      "source": [
        "#criar matriz de correlação\n",
        "\n",
        "corr = df_clean[['price', 'minimum_nights', 'number_of_reviews', 'reviews_per_month',\n",
        "    'calculated_host_listings_count', 'availability_365']].corr()\n",
        "\n",
        "display(corr)"
      ],
      "execution_count": 0,
      "outputs": [
        {
          "output_type": "display_data",
          "data": {
            "text/html": [
              "<div>\n",
              "<style scoped>\n",
              "    .dataframe tbody tr th:only-of-type {\n",
              "        vertical-align: middle;\n",
              "    }\n",
              "\n",
              "    .dataframe tbody tr th {\n",
              "        vertical-align: top;\n",
              "    }\n",
              "\n",
              "    .dataframe thead th {\n",
              "        text-align: right;\n",
              "    }\n",
              "</style>\n",
              "<table border=\"1\" class=\"dataframe\">\n",
              "  <thead>\n",
              "    <tr style=\"text-align: right;\">\n",
              "      <th></th>\n",
              "      <th>price</th>\n",
              "      <th>minimum_nights</th>\n",
              "      <th>number_of_reviews</th>\n",
              "      <th>reviews_per_month</th>\n",
              "      <th>calculated_host_listings_count</th>\n",
              "      <th>availability_365</th>\n",
              "    </tr>\n",
              "  </thead>\n",
              "  <tbody>\n",
              "    <tr>\n",
              "      <th>price</th>\n",
              "      <td>1.000000</td>\n",
              "      <td>-0.062323</td>\n",
              "      <td>-0.263807</td>\n",
              "      <td>-0.301468</td>\n",
              "      <td>0.196410</td>\n",
              "      <td>0.007767</td>\n",
              "    </tr>\n",
              "    <tr>\n",
              "      <th>minimum_nights</th>\n",
              "      <td>-0.062323</td>\n",
              "      <td>1.000000</td>\n",
              "      <td>-0.038307</td>\n",
              "      <td>-0.085963</td>\n",
              "      <td>-0.098418</td>\n",
              "      <td>-0.041810</td>\n",
              "    </tr>\n",
              "    <tr>\n",
              "      <th>number_of_reviews</th>\n",
              "      <td>-0.263807</td>\n",
              "      <td>-0.038307</td>\n",
              "      <td>1.000000</td>\n",
              "      <td>0.725927</td>\n",
              "      <td>-0.264467</td>\n",
              "      <td>0.059694</td>\n",
              "    </tr>\n",
              "    <tr>\n",
              "      <th>reviews_per_month</th>\n",
              "      <td>-0.301468</td>\n",
              "      <td>-0.085963</td>\n",
              "      <td>0.725927</td>\n",
              "      <td>1.000000</td>\n",
              "      <td>-0.301650</td>\n",
              "      <td>-0.000409</td>\n",
              "    </tr>\n",
              "    <tr>\n",
              "      <th>calculated_host_listings_count</th>\n",
              "      <td>0.196410</td>\n",
              "      <td>-0.098418</td>\n",
              "      <td>-0.264467</td>\n",
              "      <td>-0.301650</td>\n",
              "      <td>1.000000</td>\n",
              "      <td>0.104270</td>\n",
              "    </tr>\n",
              "    <tr>\n",
              "      <th>availability_365</th>\n",
              "      <td>0.007767</td>\n",
              "      <td>-0.041810</td>\n",
              "      <td>0.059694</td>\n",
              "      <td>-0.000409</td>\n",
              "      <td>0.104270</td>\n",
              "      <td>1.000000</td>\n",
              "    </tr>\n",
              "  </tbody>\n",
              "</table>\n",
              "</div>"
            ],
            "text/plain": [
              "                                   price  ...  availability_365\n",
              "price                           1.000000  ...          0.007767\n",
              "minimum_nights                 -0.062323  ...         -0.041810\n",
              "number_of_reviews              -0.263807  ...          0.059694\n",
              "reviews_per_month              -0.301468  ...         -0.000409\n",
              "calculated_host_listings_count  0.196410  ...          0.104270\n",
              "availability_365                0.007767  ...          1.000000\n",
              "\n",
              "[6 rows x 6 columns]"
            ]
          },
          "metadata": {
            "tags": []
          }
        }
      ]
    },
    {
      "cell_type": "code",
      "metadata": {
        "id": "k0XWb9C4SI68",
        "colab_type": "code",
        "outputId": "f9a73180-749e-4cef-baff-c79ae16aac71",
        "colab": {
          "base_uri": "https://localhost:8080/",
          "height": 411
        }
      },
      "source": [
        "sns.heatmap(corr, cmap='RdBu', fmt='.2f', square=True, linecolor='white', annot=True);"
      ],
      "execution_count": 0,
      "outputs": [
        {
          "output_type": "display_data",
          "data": {
            "image/png": "[encoded data removed]",
            "text/plain": [
              "<Figure size 432x288 with 2 Axes>"
            ]
          },
          "metadata": {
            "tags": [],
            "needs_background": "light"
          }
        }
      ]
    },
    {
      "cell_type": "markdown",
      "metadata": {
        "id": "JFbFfIPZTODP",
        "colab_type": "text"
      },
      "source": [
        "###2.5- Tipo de imóvel mais alugado no Hawaii###\n",
        "\n",
        "A coluna da variável **room_type** indica o tipo de locação que está anunciada no Airbnb. Se você já alugou no site, sabe que existem opções de apartamentos/casas inteiras, apenas o aluguel de um quarto ou mesmo dividir o quarto com outras pessoas.\n",
        "\n",
        "Vamos contar a quantidade de ocorrências de cada tipo de aluguel, usando o método **value_counts()**."
      ]
    },
    {
      "cell_type": "code",
      "metadata": {
        "id": "J_tK515hTlB0",
        "colab_type": "code",
        "outputId": "ca521cb4-82bc-4ad2-921b-07f46a63bf5e",
        "colab": {
          "base_uri": "https://localhost:8080/",
          "height": 102
        }
      },
      "source": [
        "#Mostrar quantidade de cada tipo de imóvel disponível\n",
        "df_clean.room_type.value_counts()"
      ],
      "execution_count": 0,
      "outputs": [
        {
          "output_type": "execute_result",
          "data": {
            "text/plain": [
              "Entire home/apt    19585\n",
              "Private room        2218\n",
              "Hotel room           213\n",
              "Shared room          100\n",
              "Name: room_type, dtype: int64"
            ]
          },
          "metadata": {
            "tags": []
          },
          "execution_count": 13
        }
      ]
    },
    {
      "cell_type": "code",
      "metadata": {
        "id": "IlLUCwgXT80P",
        "colab_type": "code",
        "outputId": "9c9502c0-46a6-4586-b153-bfd0042c708d",
        "colab": {
          "base_uri": "https://localhost:8080/",
          "height": 102
        }
      },
      "source": [
        "#mostrar percentual para cada tipo de imóvel disonpível sobre o total\n",
        "df_clean.room_type.value_counts() / df_clean.shape[0]"
      ],
      "execution_count": 0,
      "outputs": [
        {
          "output_type": "execute_result",
          "data": {
            "text/plain": [
              "Entire home/apt    0.885558\n",
              "Private room       0.100289\n",
              "Hotel room         0.009631\n",
              "Shared room        0.004522\n",
              "Name: room_type, dtype: float64"
            ]
          },
          "metadata": {
            "tags": []
          },
          "execution_count": 14
        }
      ]
    },
    {
      "cell_type": "markdown",
      "metadata": {
        "id": "guFRSqHaUVY6",
        "colab_type": "text"
      },
      "source": [
        "###2.6- Local onde a locação é mais cara\n",
        "\n",
        "Uma maneira de se verificar uma variável em função da outra é usando **groupby()**. No caso, queremos comparar os bairros (neighbourhoods) a partir do preço de locação."
      ]
    },
    {
      "cell_type": "code",
      "metadata": {
        "id": "hazZUkFNUnFN",
        "colab_type": "code",
        "outputId": "bdfd01f0-ba2a-4167-aba5-de5947541fb7",
        "colab": {
          "base_uri": "https://localhost:8080/",
          "height": 221
        }
      },
      "source": [
        "df_clean.groupby(['neighbourhood']).price.mean().sort_values(ascending=False) [:10]"
      ],
      "execution_count": 0,
      "outputs": [
        {
          "output_type": "execute_result",
          "data": {
            "text/plain": [
              "neighbourhood\n",
              "Koloa-Poipu          397.044625\n",
              "Lahaina              382.776662\n",
              "South Kohala         368.021097\n",
              "Ewa                  366.558195\n",
              "North Shore Kauai    313.513085\n",
              "East Honolulu        307.932099\n",
              "Kihei-Makena         300.163271\n",
              "Hana                 296.069444\n",
              "Koolaupoko           295.867784\n",
              "Koolauloa            293.029056\n",
              "Name: price, dtype: float64"
            ]
          },
          "metadata": {
            "tags": []
          },
          "execution_count": 15
        }
      ]
    },
    {
      "cell_type": "code",
      "metadata": {
        "id": "nACboHAOVtna",
        "colab_type": "code",
        "outputId": "b2673233-d11b-4a76-f559-9392cb2312ab",
        "colab": {
          "base_uri": "https://localhost:8080/",
          "height": 204
        }
      },
      "source": [
        "df_clean.neighbourhood.value_counts() [:10]"
      ],
      "execution_count": 0,
      "outputs": [
        {
          "output_type": "execute_result",
          "data": {
            "text/plain": [
              "Primary Urban Center    4421\n",
              "Kihei-Makena            3632\n",
              "Lahaina                 3188\n",
              "North Kona              2039\n",
              "North Shore Kauai       1261\n",
              "Koloa-Poipu              986\n",
              "Puna                     952\n",
              "South Kohala             948\n",
              "Kapaa-Wailua             553\n",
              "Koolaupoko               537\n",
              "Name: neighbourhood, dtype: int64"
            ]
          },
          "metadata": {
            "tags": []
          },
          "execution_count": 16
        }
      ]
    },
    {
      "cell_type": "markdown",
      "metadata": {
        "id": "8e2YRp4fZCGV",
        "colab_type": "text"
      },
      "source": [
        "Como são fornecidas as Latitudes e Longitudes para os imóveis, é possível plotar cada ponto. Para isso, considera-se x=longitude e y=latitude."
      ]
    },
    {
      "cell_type": "code",
      "metadata": {
        "id": "tzo1mEZdZJwC",
        "colab_type": "code",
        "outputId": "63a1ac9f-9bff-4894-f21c-eaad2677076e",
        "colab": {
          "base_uri": "https://localhost:8080/",
          "height": 472
        }
      },
      "source": [
        "#Plotar imagem pela latitude e longitude\n",
        "\n",
        "df_clean.plot(kind='scatter', x='longitude', y='latitude', alpha=0.4, c=df_clean['price'], s=8,\n",
        "              cmap=plt.get_cmap('jet'), figsize=(12,8));"
      ],
      "execution_count": 0,
      "outputs": [
        {
          "output_type": "display_data",
          "data": {
            "image/png": "[encoded data removed]",
            "text/plain": [
              "<Figure size 864x576 with 2 Axes>"
            ]
          },
          "metadata": {
            "tags": [],
            "needs_background": "light"
          }
        }
      ]
    },
    {
      "cell_type": "markdown",
      "metadata": {
        "id": "Ap4W3oTOadjP",
        "colab_type": "text"
      },
      "source": [
        "##3- Conclusões##\n",
        "\n",
        "Foi feita apenas uma análise superficial na base de dados do Airbnb, porém já se percebeu que existem outliers em algumas das variáveis.\n",
        "\n",
        "Também se notou que em algumas localidades há poucos imóveis disponíveis, o que pode distorcer as informações estatísticas de alguns atributos.\n",
        "\n",
        "Por fim, lembra-se que este dataset é uma versão resumida, ideal apenas para uma abordagem inicial. Recomenda-se que seja usado, em uma próxima análise exploratória, o conjunto de dados completos, com 106 atributos disponíveis."
      ]
    }
  ]
}